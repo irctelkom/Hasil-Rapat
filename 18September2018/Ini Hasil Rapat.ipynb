{
 "cells": [
  {
   "cell_type": "markdown",
   "metadata": {},
   "source": [
    "HASIL RAPAT\n",
    "PEMBAHASAN ITALK :\n",
    "1.\tPembayaran registrasi 10k\n",
    "2.\tJumlah peserta : 2 kelas\n",
    "3.\tWaktu pelaksanaan awal oktober 2018\n",
    "4.\tPembuatan baju IRC dengan ketentuan :\n",
    "a.\tPembayaran uang muka (DP) pada tanggal 24 September 2018\n",
    "b.\tPembayaran atau pelunasan maksimal tanggal 30 September 2018\n",
    "\n",
    "PEMBAHASAN KUMPULBAGI :\n",
    "1.\tPeserta mendaftarkan diri melalui web\n",
    "2.\tKumpulbagi merupakan sarana sosialisasi atau pengenalan\n",
    "3.\tMelakukan sharing kegiatan ketika kumpul bagi\n",
    "4.\tAdanya registrasi ulang ketika acara\n",
    "5.\tIRC melakukan iuran sukarela\n",
    "6.\tMenyediakan konsumsi (depends on ketua dan bendahara)\n",
    "7.\tPeminjaman ruangan IOT 101-102 disegerakan\n",
    "8.\tSusunan kepanitian :\n",
    "Ketua : Reno\n",
    "Sekertaris : Diaz\n",
    "Bendahara : Puan\n",
    "Anggota lain masuk dalam perkap dan dokumentasi\n",
    "9.\tMC oleh Kak andre\n",
    "10.\tDresscode bebas dan sopan\n",
    "11.\tPerkap harus menyediakan :\n",
    "a.\t1 set mic wireless\n",
    "b.\t1 sound portable\n",
    "RUNDOWN ACARA KUMPUL BAGI\n",
    "Waktu\tKegiatan\n",
    "19.00 – 19.20\tRegistrasi ulang\n",
    "19.20 – 19.30\tPembukaan oleh MC\n",
    "19.30 – 19.40\tSambutan ketua IRC\n",
    "\tSharing session oleh :\n",
    "19.40 – 19.45\tKepala Dept. Kominfo\n",
    "19.45 – 19.50\tKepala Dept. Ristek\n",
    "19.50 – 19.55\tSekjen\n",
    "19.55 – 20.25\tDiskusi\n",
    "20.25 – 20.35\tSesi pengajuan kegiatan IRC\n",
    "20.35 – 21.00\tPenetapan, Penutupan dan sesi foto bersama\n"
   ]
  },
  {
   "cell_type": "code",
   "execution_count": null,
   "metadata": {},
   "outputs": [],
   "source": []
  }
 ],
 "metadata": {
  "kernelspec": {
   "display_name": "Python 3",
   "language": "python",
   "name": "python3"
  },
  "language_info": {
   "codemirror_mode": {
    "name": "ipython",
    "version": 3
   },
   "file_extension": ".py",
   "mimetype": "text/x-python",
   "name": "python",
   "nbconvert_exporter": "python",
   "pygments_lexer": "ipython3",
   "version": "3.6.6"
  }
 },
 "nbformat": 4,
 "nbformat_minor": 2
}
