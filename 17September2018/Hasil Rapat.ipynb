{
 "cells": [
  {
   "cell_type": "markdown",
   "metadata": {},
   "source": [
    "# Hasil Rapat (17 September 2018),\n",
    "Author : Andre Pradika <br>\n",
    "created : 17 September 2018 (8.17 am) <br>\n",
    "update : NA\n",
    "### Agenda :\n",
    "0. Oprek Member & Pengurus\n",
    "1. Konsep Kegiatan\n",
    "2. Pembagian Job\n",
    "3. Atribut IRC"
   ]
  },
  {
   "cell_type": "markdown",
   "metadata": {},
   "source": [
    "### Oprek member\n",
    "Oprek member diadakan sepanjang 24/7 selama masa kepengurusan, member yang telah bergabung akan langsung aktif dan akan bergabung dalam kepanitiaan dan diskusi (jika jumlah nya sedikit), jika jumlahnya banyak langsung dilaksanakan kegiatan Kumpulbagi untuk pembagian job biar gak nganggur membernya. Tidak ada target member, IRC akan mulai menghimpun member ketika UKM atau sejenisnya telah melaksanakan rekruitmen, IRC akan mewadahi orang2 yang belum mendapat naungan.\n",
    "\n",
    "### Oprek pengurus\n",
    "Oprek pengurus dan fixin struktur kepengurusan akan dilaksanakan secepatnya, melihat komposisi jumlah member dan kualitas SDM (pengamatan ketua), jadi untuk member atau formatur sekarang yang bertugas mulai mempioritaskan diri di IRC, bila berkeiinginan lanjut atau mengambil alih IRC, posisi akan move terus tergantung dari kualitas SDMnya, IRC butuh orang loyal jangan sampai \"rapat tak mau, reshuffle enggan\", kebutuhan SK & TAK carilah sendiri buat kegiatan sendiri, akses di IRC tidak terbatas, punya kuasa dimanfaatin, siapa tau besok sudah tidak ada kuasa, jangan nunggu ketua move, ketua udah kelar gituannya, \"Carialah naungan lain jika mengicar kepengurusan tapi tidak ada move lain, \"ketua bisa move sendiri dengan source lain\", disini ketua berniat membantu kalian, hargai niat ketua."
   ]
  },
  {
   "cell_type": "markdown",
   "metadata": {},
   "source": [
    "### Kegiatan\n",
    "Kita akan menyelenggarakan I-Talks dengan 3 judul, penyelenggaraan seminggu sekali, Registrasi kegiatan 5-10k,untuk waktu pelaksaanan menunggu atribut selesai!\n",
    "\n",
    "Kebutuhan Kegiatan lainnya, didiskusikan setelah ada ketua pelaksana."
   ]
  },
  {
   "cell_type": "markdown",
   "metadata": {},
   "source": [
    "### Kegiatan 1\n",
    "Judul :\n",
    "Ada Apa Dengan Informatika? <br>\n",
    "Deskripsi : \n",
    "Kamu butuh gambaran apa sih Informatika?, ada apa dengan Informatika?, ada apa di Informatika?, kenapa harus Informatika?, apa yang dibutuhkan di informatika?, akan jadi apa sih setelah lulus dari Informatika?, disini kamu akan dapat informasi tersebut.\n",
    "Pembicara :\n",
    "1.\tKetua Divisi PSDM RPL\n",
    "2.\tKetua Divisi PSDM SI\n",
    "3.\tKetua Divisi PSDM HMIF"
   ]
  },
  {
   "cell_type": "markdown",
   "metadata": {},
   "source": [
    "### Kegiatan 2\n",
    "Judul :\n",
    "Mari Berkenalan Dengan PKM<br>\n",
    "Deskripsi : \n",
    "Apa itu PKM? Apa syarat PKM? Apa saja bidang PKM? Kenapa ada PKM? Kenapa PKM itu wajib? Ngapain aja di PKM? Kenapa harus ikut PKM? Apa manfaat PKM? Apa saja apositif dan negatifnya PKM? Apa saja yang dibutuhkan dalam PKM? Apa tujuan dari PKM?\n",
    "Pembicara :\n",
    "1.\tPak Fauzan"
   ]
  },
  {
   "cell_type": "markdown",
   "metadata": {},
   "source": [
    "### Kegiatan 3\n",
    "\n",
    "Judul :\n",
    "Cerita di Balik PKL <br>\n",
    "Deskripsi : ......\n",
    "1.\tKak Isnanda\n",
    "2.\tKak Putri"
   ]
  },
  {
   "cell_type": "markdown",
   "metadata": {},
   "source": [
    "### Job Desk Panitia :\n",
    "1.\tPIC : \t- Bertanggung jawab penuh keberlangsungan kegiatan (penasehat) <br>\n",
    "2.\tKetua :  - Memimpin kegiatan (keputusan) <br>\n",
    "3.\tSekertaris : <br>\n",
    "-Dokumen kegiatan (cetak, buat, ngasih) - (ruang, alat, undangan) <br>\n",
    "-Registrasi ulang saat kegiatan (peserta) <br>\n",
    "-Konfirmasi kehadiran peserta <br>\n",
    "4.\tBendahara : <br>\n",
    "-Pembayaran peserta <br>\n",
    "-Beli kebutuhan kegiatan <br>\n",
    "5.\tHumas : <br>\n",
    "-Hubungi pembicara <br>\n",
    "-Konfirmasi pembicara <br>\n",
    "6.\tPelengkapan dan Dokumentasi: <br>\n",
    "-Poster <br>\n",
    "-Setting ruang <br> \n"
   ]
  },
  {
   "cell_type": "markdown",
   "metadata": {},
   "source": [
    "### Pembagian Job\n",
    "Tiap member atau formatur silahkan masuk ke salah satu posisi, kepanitiaan ini belraku di 3 Judul kegiatan, pembagian job lainnya, ditentukan ketua pelaksana,\n",
    "segala kebutuhan yang diinginkan panitia, silahkan didiskusikan (ex: sertifikat, etc).\n",
    "\n",
    "1.\tPIC : \t\n",
    "2.\tKetua : \n",
    "3.\tSekertaris :  (Total 2 orang) <br>\n",
    "-Koor : Puan Nad<br>\n",
    "-Anggota :<br>\n",
    "4.\tBendahara : (Total 3 orang) <br>\n",
    "-\tKoor : Yuli Feb<br>\n",
    "-Anggota: <br>\n",
    "5.\tHumas : (Total 2 orang)  <br>\n",
    "-\tKoor : Diaz Azt<br>\n",
    "-Anggota: <br>\n",
    "6.\tPelengkapan dan Dokumentasi: <br>"
   ]
  },
  {
   "cell_type": "markdown",
   "metadata": {},
   "source": [
    "### Atribut\n",
    "1. Pakaian\n",
    "2. Dekorasi dan Perlengkapan"
   ]
  },
  {
   "cell_type": "markdown",
   "metadata": {},
   "source": [
    "### Pakaian\n",
    "<img src=\"asset/img/andre.jpg\"\n",
    "     alt=\"Markdown Monster icon\"\n",
    "     style=\"float: left; margin-right: 10px;\" />"
   ]
  },
  {
   "cell_type": "markdown",
   "metadata": {},
   "source": [
    "Kita mau bikin kaos dulu, jangan harapin PDL, PDL taun depan!, "
   ]
  },
  {
   "cell_type": "markdown",
   "metadata": {},
   "source": [
    "Design mirip2 sama yang item itu, range harga 60-80 , tergantung kualitas, silahkan minta diskusi untuk atribut ini agar, kegiatan bisa cepat terlaksana!, contoh : design wordcloud shape tree, entar dikasi logo di kanan\n",
    "<img src=\"asset/img/tree.jpg\"\n",
    "     alt=\"Markdown Monster icon\"\n",
    "     style=\"float: left; margin-right: 10px;\" />"
   ]
  },
  {
   "cell_type": "markdown",
   "metadata": {},
   "source": [
    "### Dekorasi\n",
    "Kita akan buat Y-Banner 3 buah\n",
    "<img src=\"asset/img/ybanner.jpg\"\n",
    "     alt=\"Markdown Monster icon\"\n",
    "     style=\"float: left; margin-right: 10px;\" />"
   ]
  },
  {
   "cell_type": "markdown",
   "metadata": {},
   "source": [
    "Untuk revisi :\n",
    "1. Web irc pakai shortlink saja\n",
    "2. Kata deskripsi kegiatan, ya elah gak ada yang benerin ha?, dirapiin biar menarik\n",
    "3. BG lapy mungkin bisa diganti pakai gambar orang (hasil kegiatan IRC) <br>\n",
    "source image : https://drive.google.com/open?id=1-K8cAtmFY0grtWRyqeu2ZVQAAQza5Q5J"
   ]
  },
  {
   "cell_type": "markdown",
   "metadata": {},
   "source": [
    "### Perlengkapan\n",
    "kita butuh peralatan, wadah snack, jadi saat registrasi kegiatan akan ada welcome snack, disitu snack akan taroh disitu kita sediaakn gelas plastik dan sendok jadi peserta mengambil sendiri snacknya <br>\n",
    "<img src=\"asset/img/wadah.jpg\"\n",
    "     alt=\"Markdown Monster icon\"\n",
    "     style=\"float: left; margin-right: 10px;\" />\n",
    "<img src=\"asset/img/sendok.jpg\"\n",
    "     alt=\"Markdown Monster icon\"\n",
    "     style=\"float: left; margin-right: 10px;\" />\n",
    "<img src=\"asset/img/gelas.jpg\"\n",
    "     alt=\"Markdown gelas icon\"\n",
    "     style=\"float: left; margin-right: 10px;\" />"
   ]
  },
  {
   "cell_type": "markdown",
   "metadata": {},
   "source": [
    "Silahkan memulai diskusi digrup, kelamaan pake EO lain ada \"jangan nyesel\""
   ]
  },
  {
   "cell_type": "code",
   "execution_count": null,
   "metadata": {},
   "outputs": [],
   "source": []
  }
 ],
 "metadata": {
  "kernelspec": {
   "display_name": "Python 3",
   "language": "python",
   "name": "python3"
  },
  "language_info": {
   "codemirror_mode": {
    "name": "ipython",
    "version": 3
   },
   "file_extension": ".py",
   "mimetype": "text/x-python",
   "name": "python",
   "nbconvert_exporter": "python",
   "pygments_lexer": "ipython3",
   "version": "3.6.6"
  }
 },
 "nbformat": 4,
 "nbformat_minor": 2
}
